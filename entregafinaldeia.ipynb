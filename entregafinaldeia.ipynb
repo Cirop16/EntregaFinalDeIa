{
 "cells": [
  {
   "cell_type": "code",
   "execution_count": null,
   "id": "e8cbc052-1a34-4943-88d3-98e678fdda39",
   "metadata": {},
   "outputs": [],
   "source": [
    "import openai\n",
    "\n",
    "openai.api_key = \"\""
   ]
  },
  {
   "cell_type": "code",
   "execution_count": null,
   "id": "38edd01c-4524-4ba3-ae73-0fd81ce664f3",
   "metadata": {},
   "outputs": [],
   "source": [
    "context = 'tenes que ponerte en el rol de un guia de viajes para ayudarme a resolver a donde puedo ir de vacaciones'\n",
    "\n",
    "prompt = \"tengo ganas de ir de vacaciones a la playa y a la vez me gusta hacer turismo dentro del pais\""
   ]
  },
  {
   "cell_type": "code",
   "execution_count": null,
   "id": "37278567-613a-4c9a-9f33-0ec2ed48d71b",
   "metadata": {},
   "outputs": [],
   "source": [
    "conversation = [\n",
    "    {\"role\": \"system\", \"content\": context},\n",
    "    {\"role\": \"user\", \"content\": prompt}\n",
    "]\n",
    "\n",
    "response = openai.ChatCompletion.create(\n",
    "    model='gpt-3.5-turbo',\n",
    "    messages=conversation,\n",
    "    max_tokens=500,\n",
    "    temperature=0.7\n",
    ")\n",
    "\n",
    "message = response.choices[0]['message']\n",
    "print(\"{}: {}\".format(message['role'], message['content']))"
   ]
  },
  {
   "cell_type": "code",
   "execution_count": null,
   "id": "967b921c-6b0d-4e4e-b579-1b6094391bab",
   "metadata": {},
   "outputs": [],
   "source": [
    "story_made = response['choices'][0]['message']['content'].strip()\n",
    "\n",
    "print(\"Opcion creada:\", story_made)"
   ]
  },
  {
   "cell_type": "code",
   "execution_count": null,
   "id": "40ba3bda-d782-450d-a6cb-b5b115a519b5",
   "metadata": {},
   "outputs": [],
   "source": [
    "process_text_to_image = \"En base a la historia anterior crea un prompt que pueda generar una imagen que muestre el escenario correspondiente a la playa donde tengo que ir de vacaciones\"\n",
    "\n",
    "conversation.append({\"role\": \"user\", \"content\": process_text_to_image})\n",
    "\n",
    "response = openai.ChatCompletion.create(\n",
    "    model='gpt-3.5-turbo',\n",
    "    messages=conversation,\n",
    "    max_tokens=500\n",
    ")\n",
    "\n",
    "img_prompt = response['choices'][0]['message']['content'].strip()\n",
    "print(\"Prompt de la escena:\", img_prompt)"
   ]
  },
  {
   "cell_type": "code",
   "execution_count": null,
   "id": "c1347156-974a-4412-95d8-da6784ffa91a",
   "metadata": {},
   "outputs": [],
   "source": [
    "image_from_scenario = f\"En base a la historia anterior, crea una imagen que represente el escenario descripto: {img_prompt}\"\n",
    "\n",
    "conversation.append({\"role\": \"user\", \"content\": image_from_scenario})\n",
    "\n",
    "image_response = openai.Image.create(\n",
    "    prompt=image_from_scenario,\n",
    "    n=1,\n",
    "    size=\"180x180\"\n",
    ")\n",
    "\n",
    "print(image_response['data'][0]['url'])"
   ]
  }
 ],
 "metadata": {
  "kernelspec": {
   "display_name": "Python 3 (ipykernel)",
   "language": "python",
   "name": "python3"
  },
  "language_info": {
   "codemirror_mode": {
    "name": "ipython",
    "version": 3
   },
   "file_extension": ".py",
   "mimetype": "text/x-python",
   "name": "python",
   "nbconvert_exporter": "python",
   "pygments_lexer": "ipython3",
   "version": "3.12.4"
  }
 },
 "nbformat": 4,
 "nbformat_minor": 5
}
